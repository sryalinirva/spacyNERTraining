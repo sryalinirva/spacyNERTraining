{
 "cells": [
  {
   "cell_type": "code",
   "execution_count": 1,
   "metadata": {},
   "outputs": [],
   "source": [
    "import spacy\n",
    "import numpy as np\n",
    "import pandas as pd\n",
    "# nlp=spacy.load('en_core_web_sm')\n",
    "nlp = spacy.load('en')\n",
    "from spacy import displacy\n",
    "from spacy.gold import GoldParse"
   ]
  },
  {
   "cell_type": "code",
   "execution_count": 2,
   "metadata": {},
   "outputs": [],
   "source": [
    "df = pd.read_csv(\"esg_ner_labels_scheme2.csv\")"
   ]
  },
  {
   "cell_type": "code",
   "execution_count": 3,
   "metadata": {},
   "outputs": [
    {
     "data": {
      "text/plain": [
       "3859"
      ]
     },
     "execution_count": 3,
     "metadata": {},
     "output_type": "execute_result"
    }
   ],
   "source": [
    "df['sentence_ID'].max()"
   ]
  },
  {
   "cell_type": "code",
   "execution_count": null,
   "metadata": {},
   "outputs": [],
   "source": [
    "domain_label = 'KPI'"
   ]
  },
  {
   "cell_type": "code",
   "execution_count": null,
   "metadata": {},
   "outputs": [],
   "source": [
    "df = df[df['label'] != domain_label]"
   ]
  },
  {
   "cell_type": "code",
   "execution_count": null,
   "metadata": {},
   "outputs": [],
   "source": [
    "# df['label'].unique()"
   ]
  },
  {
   "cell_type": "code",
   "execution_count": null,
   "metadata": {},
   "outputs": [],
   "source": [
    "no_sentences = df['sentence_ID'].max()\n",
    "print(\"Number of Sentences\",no_sentences)"
   ]
  },
  {
   "cell_type": "code",
   "execution_count": null,
   "metadata": {},
   "outputs": [],
   "source": [
    "add_ents = [domain_label]"
   ]
  },
  {
   "cell_type": "code",
   "execution_count": null,
   "metadata": {},
   "outputs": [],
   "source": [
    "ner = nlp.get_pipe(\"ner\")"
   ]
  },
  {
   "cell_type": "code",
   "execution_count": null,
   "metadata": {},
   "outputs": [],
   "source": [
    "prev_ents = ner.move_names\n",
    "print('[Existing Entities] = ', ner.move_names)\n",
    "\n",
    "for ent in add_ents:\n",
    "    ner.add_label(ent)\n",
    "    \n",
    "new_ents = ner.move_names\n",
    "# print('\\n[All Entities] = ', ner.move_names)\n",
    "\n",
    "print('\\n\\n[New Entities] = ', list(set(new_ents) - set(prev_ents)))"
   ]
  },
  {
   "cell_type": "markdown",
   "metadata": {},
   "source": [
    "### Create Dataset"
   ]
  },
  {
   "cell_type": "code",
   "execution_count": null,
   "metadata": {},
   "outputs": [],
   "source": [
    "X = []\n",
    "Y = []\n",
    "for sent_id in np.arange(no_sentences):\n",
    "    df_temp = df[df['sentence_ID'] == sent_id + 1]\n",
    "    \n",
    "    words  = df_temp.word.values\n",
    "    ents = df_temp.label.values\n",
    "    if len(ents) > 0 and len(words) > 0:\n",
    "        text = ' '.join(words)\n",
    "        doc = nlp.make_doc(text)\n",
    "        try:\n",
    "            g = GoldParse(doc, entities=ents)\n",
    "            X.append(doc)\n",
    "            Y.append(g)\n",
    "#             print(\"sentence ID = \", sent_id+1)\n",
    "        except:\n",
    "            print(\"Exception: sentence_id = \",sent_id+1)   "
   ]
  },
  {
   "cell_type": "markdown",
   "metadata": {},
   "source": [
    "### Training"
   ]
  },
  {
   "cell_type": "code",
   "execution_count": null,
   "metadata": {},
   "outputs": [],
   "source": [
    "other_pipes = [pipe for pipe in nlp.pipe_names if pipe != \"ner\"]\n",
    "print(f'[OtherPipes] = {other_pipes} will be disabled')"
   ]
  },
  {
   "cell_type": "code",
   "execution_count": null,
   "metadata": {},
   "outputs": [],
   "source": [
    "model = None # Since we training a fresh model not a saved model\n",
    "n_iter = 1000\n",
    "with nlp.disable_pipes(*other_pipes):  # only train ner\n",
    "    # optimizer = nlp.begin_training()\n",
    "    if model is None:\n",
    "        optimizer = nlp.begin_training()\n",
    "    else:\n",
    "        optimizer = nlp.resume_training()\n",
    "    for i in range(n_iter):\n",
    "        losses = {}\n",
    "        nlp.update(X, Y,  sgd=optimizer, drop=0.35, losses=losses)\n",
    "            # nlp.entity.update(d, g)\n",
    "        print(\"Losses\", losses)"
   ]
  },
  {
   "cell_type": "code",
   "execution_count": null,
   "metadata": {},
   "outputs": [],
   "source": [
    "output_dir = \"../models/model_scheme2\"\n",
    "nlp.to_disk(output_dir)\n",
    "print(\"Saved model to\", output_dir)"
   ]
  },
  {
   "cell_type": "code",
   "execution_count": null,
   "metadata": {},
   "outputs": [],
   "source": [
    "# # Load the saved model and predict\n",
    "# print(\"Loading from\", output_dir)\n",
    "# nlp_updated = spacy.load(output_dir)\n",
    "# doc = nlp_updated(\"Fridge can be ordered in FlipKart\" )\n",
    "# print(\"Entities\", [(ent.text, ent.label_) for ent in doc.ents])"
   ]
  },
  {
   "cell_type": "code",
   "execution_count": null,
   "metadata": {},
   "outputs": [],
   "source": [
    "test_text = \"The Winix 5500-2 is an exceptional performer on particulates, capturing 99.9% of the smoke in our test room in just 30 minutes on high and 97.2% on its medium-high setting, where it emits an easy-to-live-with 40 decibels.\"\n",
    "displacy.render(nlp(test_text), style='ent', jupyter=True)"
   ]
  },
  {
   "cell_type": "code",
   "execution_count": null,
   "metadata": {},
   "outputs": [],
   "source": [
    "test_text = \"The Blueair Blue Pure 211+ is our choice among air purifiers for large spaces of up to 650 square feet, especially when the space involves open floor plans or high ceilings\"\n",
    "displacy.render(nlp(test_text), style='ent', jupyter=True)"
   ]
  },
  {
   "cell_type": "code",
   "execution_count": null,
   "metadata": {},
   "outputs": [],
   "source": [
    "test_text = \"This is the matching electric dryer for the EFLS627U washer, though some lower-end Electrolux models will stack, too.\"\n",
    "displacy.render(nlp(test_text), style='ent', jupyter=True)"
   ]
  },
  {
   "cell_type": "code",
   "execution_count": null,
   "metadata": {},
   "outputs": [],
   "source": [
    "test_text = \"The WTG86400UC dryer is a ventless condenser model, and the washer can piggyback off its power supply, so you need only one outlet for the pair.\"\n",
    "displacy.render(nlp(test_text), style='ent', jupyter=True)"
   ]
  },
  {
   "cell_type": "code",
   "execution_count": null,
   "metadata": {},
   "outputs": [],
   "source": [
    "test_text = \"Although the Miele W1 holds only half as much laundry as most front-loaders, you can expect it to last at least twice as long.\"\n",
    "displacy.render(nlp(test_text), style='ent', jupyter=True)"
   ]
  },
  {
   "cell_type": "code",
   "execution_count": null,
   "metadata": {},
   "outputs": [],
   "source": [
    "test_text = \"The LG WMXC100 is a competive washer dryer.\"\n",
    "displacy.render(nlp(test_text), style='ent', jupyter=True)"
   ]
  },
  {
   "cell_type": "code",
   "execution_count": null,
   "metadata": {},
   "outputs": [],
   "source": [
    "test_text = \"The Café CTS70DP2NS1 stands out among wall ovens for its beautiful pro-style design and great reputation for cooking performance at about half the price of an upscale\"\n",
    "displacy.render(nlp(test_text), style='ent', jupyter=True)"
   ]
  },
  {
   "cell_type": "code",
   "execution_count": null,
   "metadata": {},
   "outputs": [],
   "source": [
    "test_text = \"Within 30 minutes, the Coway AP1512HH Mighty reduced heavy smoke pollution in a 135-square-foot, 1,215-cubic-foot New York office by as much as 99.6 air purifier.\"\n",
    "displacy.render(nlp(test_text), style='ent', jupyter=True)"
   ]
  }
 ],
 "metadata": {
  "kernelspec": {
   "display_name": "forNLPT5",
   "language": "python",
   "name": "fornlpt5"
  },
  "language_info": {
   "codemirror_mode": {
    "name": "ipython",
    "version": 3
   },
   "file_extension": ".py",
   "mimetype": "text/x-python",
   "name": "python",
   "nbconvert_exporter": "python",
   "pygments_lexer": "ipython3",
   "version": "3.6.10"
  }
 },
 "nbformat": 4,
 "nbformat_minor": 4
}
